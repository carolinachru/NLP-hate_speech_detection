{
 "cells": [
  {
   "cell_type": "markdown",
   "metadata": {
    "id": "_Lhkq6YeAvSZ"
   },
   "source": [
    "# Hate-speech detection in 150,000 tweets using LSTM and GRU\n",
    "\n",
    "\n",
    ">The task of classifying hate-speech on Twitter through Gated Recurrent Neural Networks is undertaken. Online expression of hate is crucial to detect as it can provoke hostility and oppressive behaviors towards traditionally marginalized groups. Hate-speech detection is complex due to the existence of linguistic reappropriation and profanity expression. Long Short-Term Memory and Gated Recurrent Unit models are explored, as well as the methodological concepts of bidirectionality and class imbalance. Using the tweets' text of the MMHS150K, currently the biggest available and labeled hate-speech dataset, I arrive at similar measures of accuracy and recall as the proposed models in the literature. Moreover, my results support the concern for high class-imbalanced datasets and question the usage of bidirectionality for Twitter data.\n",
    "\n",
    "---\n"
   ]
  },
  {
   "cell_type": "markdown",
   "metadata": {
    "id": "J-HBXBNrCg-P"
   },
   "source": [
    "### Introduction\n",
    "\n",
    "**Research questions** \n",
    "\n",
    "1.\tWhat is the performance of **LSTM and GRU** on the MMHS150K dataset for hate-speech classification? This to compare the LSTM performance from Gomez et al. (2019), to focus on the classification exclusively using text, but also to provide a baseline when adding complexity such as multimodal proposals to effectively ground the improvement on performance by adding complexity.\n",
    "2.\tConsidering the linguistic reappropriation and profanity expression of slurs, how does introducing **bidirectionality** RNN to the base models improve the classifier performance? Does it help the base model improve on understanding of the context?\n",
    "3.\tFollowing the concern of the previously three cited papers around the **class imbalance** quality of the MMHS150K dataset, can I test this by quantifying the classification setbacks from proceeding on a high imbalanced dataset such as the MMHS150K?\n",
    "\n",
    "\n",
    "\n",
    "**Results**\n",
    "\n",
    "* The top LSTM and GRU models outperform multimodal models for the MMHS150K dataset. Suggesting that to detect hate-speech in multimodal tweets, the LSTM and GRU models which focus exclusively on the tweets' text are competitive and computationally-efficient algorithms.  \n",
    "* For this particular task, bidirectionality does not improve performance and could saturate already-dense GRU architectures.\n",
    "* The results support the concern for highly class-imbalanced datasets. \n"
   ]
  },
  {
   "cell_type": "markdown",
   "metadata": {
    "id": "Oppz05CZEMjy"
   },
   "source": [
    "### 3. Data\n",
    "\n",
    "For the hate-speech classification task, the MMHS150K dataset is used. This corpus has the following specifications:\n",
    "\n",
    "* Total of 150,000 labeled tweets.\n",
    "* Has a multimodal approach, meaning it consists of images and tweets, although here I will focus only on the text.\n",
    "* Incorporates the following classifications: 'No Attacks', 'Racist', 'Sexist', 'Homophobic', 'Religion based attacks' and 'Attacks to other'. \n",
    "* Language of tweets: English.\n",
    "* Year of publication: 2019\n",
    "* Open source and available in: https://www.kaggle.com/victorcallejasf/multimodal-hate-speech\n",
    "\n"
   ]
  },
  {
   "cell_type": "code",
   "execution_count": 1,
   "metadata": {
    "colab": {
     "base_uri": "https://localhost:8080/"
    },
    "id": "YOW-BLFbFQkK",
    "outputId": "362aaf09-3146-4e9c-c81a-05cfffed413e"
   },
   "outputs": [
    {
     "name": "stdout",
     "output_type": "stream",
     "text": [
      "Mounted at /content/gdrive\n"
     ]
    }
   ],
   "source": [
    "from google.colab import drive\n",
    "drive.mount(\"/content/gdrive\")"
   ]
  },
  {
   "cell_type": "markdown",
   "metadata": {
    "id": "8WrMkf7LqU6U"
   },
   "source": [
    "**Packages**"
   ]
  },
  {
   "cell_type": "code",
   "execution_count": 2,
   "metadata": {
    "id": "BL0J1PrSmXKe"
   },
   "outputs": [],
   "source": [
    "import pandas as pd\n",
    "import numpy as np\n",
    "import json\n",
    "\n",
    "from keras.preprocessing.text import Tokenizer\n",
    "from keras.preprocessing.sequence import pad_sequences\n",
    "\n",
    "import sys\n",
    "sys.path.insert(0,'/content/gdrive/My Drive/ST449_final') \n",
    "import data_clean_proc as dc"
   ]
  },
  {
   "cell_type": "markdown",
   "metadata": {
    "id": "MucM1_CiiGlQ"
   },
   "source": [
    "**Load data**"
   ]
  },
  {
   "cell_type": "code",
   "execution_count": 3,
   "metadata": {
    "id": "ZdzeI7Zh1tBm"
   },
   "outputs": [],
   "source": [
    "# Load MMHS150K dataset \n",
    "with open('/content/gdrive/My Drive/ST449_final/MMHS150K_GT.json') as f:\n",
    "  data = json.load(f)\n",
    "\n",
    "# Load training, validation and test IDs\n",
    "id_train0 = open('/content/gdrive/My Drive/ST449_final/train_ids.txt').read()\n",
    "id_train = id_train0.split()\n",
    "\n",
    "id_val0 = open('/content/gdrive/My Drive/ST449_final/val_ids.txt').read()\n",
    "id_val = id_val0.split()\n",
    "\n",
    "id_test0 = open('/content/gdrive/My Drive/ST449_final/test_ids.txt').read()\n",
    "id_test = id_test0.split()"
   ]
  },
  {
   "cell_type": "markdown",
   "metadata": {
    "id": "p5xzU-3oFuzq"
   },
   "source": [
    "**File description**\n",
    "\n",
    "The ***MMHS150K_GT*** database is presented as a JSON file, where each tweet has the following information:\n",
    "- `tweet_url`: URL for the tweet (some are deprecated due to Twitter block)\n",
    "- `labels`: array of length three which correspond to the 3 numeric labels [0-5] corresponding to the three Amazon Turk (AMT) annotators. \n",
    "Each label corresponds to the following:\n",
    "        0 - Not Hate\n",
    "        1 - Racist\n",
    "        2 - Sexist\n",
    "        3 - Homophobe\n",
    "        4 - Religion\n",
    "        5 - Other Hate\n",
    "- `img_url`: URL of the image (some are deprecated due to Twitter block)\n",
    "- `tweet_text`: text of the tweet\n",
    "- `labels_str`: array with the 3 labels strings\n",
    "\n",
    "The file is uploaded as a Python dictionary, where each key corresponds to a tweet. The main dictionary's value is also a dicitionary where each key is the variable name and the values the associated information for each. As an example, I present next an overview of the data for a specific tweet."
   ]
  },
  {
   "cell_type": "markdown",
   "metadata": {
    "id": "b3Xq6QBBpn2W"
   },
   "source": [
    "**Data overview**"
   ]
  },
  {
   "cell_type": "code",
   "execution_count": 4,
   "metadata": {
    "colab": {
     "base_uri": "https://localhost:8080/"
    },
    "id": "X6zaSHz_Fx3_",
    "outputId": "6cc90f84-39f9-47a0-d18a-8b86fe851118"
   },
   "outputs": [
    {
     "name": "stdout",
     "output_type": "stream",
     "text": [
      "[\n",
      "  \"1116702448016556035\",\n",
      "  {\n",
      "    \"img_url\": \"http://pbs.twimg.com/tweet_video_thumb/D39S8tbW4AIflmW.jpg\",\n",
      "    \"labels\": [\n",
      "      0,\n",
      "      0,\n",
      "      0\n",
      "    ],\n",
      "    \"tweet_url\": \"https://twitter.com/user/status/1116702448016556035\",\n",
      "    \"tweet_text\": \"@DefNotJerm So.... you turn to twitter for it instead of beating that nigga ass or contacting the police about it? https://t.co/Lseai7IPOL\",\n",
      "    \"labels_str\": [\n",
      "      \"NotHate\",\n",
      "      \"NotHate\",\n",
      "      \"NotHate\"\n",
      "    ]\n",
      "  }\n",
      "]\n"
     ]
    }
   ],
   "source": [
    "print(json.dumps(list(data.items())[10], indent = 2))"
   ]
  },
  {
   "cell_type": "markdown",
   "metadata": {
    "id": "90B3M_9BCUXY"
   },
   "source": [
    "#### Dataset pre-processing\n"
   ]
  },
  {
   "cell_type": "markdown",
   "metadata": {
    "id": "0m0yuaFnqhpd"
   },
   "source": [
    "After loading the training, validation, and test set IDs as well as the dictionary representation of the JSON file, I create three different datasets."
   ]
  },
  {
   "cell_type": "code",
   "execution_count": 4,
   "metadata": {
    "colab": {
     "base_uri": "https://localhost:8080/"
    },
    "id": "t8bNIbkT28cf",
    "outputId": "87d72f81-82dc-46f1-bcda-3427df3a3965"
   },
   "outputs": [
    {
     "name": "stdout",
     "output_type": "stream",
     "text": [
      "Length: 134823 observations for the train set, 5000 for the validation and 10000 for the test.\n"
     ]
    }
   ],
   "source": [
    "# Create a dataset (list of tweet_text and labels) for each set: training, validation and test\n",
    "dict_train = {x: data[x] for x in id_train}\n",
    "dict_val = {x: data[x] for x in id_val}\n",
    "dict_test = {x: data[x] for x in id_test}\n",
    "\n",
    "print('Length: %d observations for the train set, %d for the validation and %d for the test.' % \n",
    "      (len(dict_train), len(dict_val), len(dict_test)))"
   ]
  },
  {
   "cell_type": "markdown",
   "metadata": {
    "id": "-rsm8MFmsAP1"
   },
   "source": [
    "Using a personalized function for the MMHS150K, `for_text_label()`, I extract two objects, one for the text and other for the labels. This function returns the processed and 'cleaned' text with the following criteria: \n",
    "* Homogenizes mentions to *@user*,\n",
    "* Hashtags to *#hashtag*, \n",
    "* URLs to *https/*, \n",
    "* Removes double or more blank spaces, and\n",
    "* Transforms all to lower case."
   ]
  },
  {
   "cell_type": "code",
   "execution_count": 5,
   "metadata": {
    "id": "QezcZkfLABsF"
   },
   "outputs": [],
   "source": [
    "# Creating data and label dataset\n",
    "text_train, labels3_train = dc.for_text_label(dict_train)\n",
    "text_val, labels3_val = dc.for_text_label(dict_val)\n",
    "text_test, labels3_test = dc.for_text_label(dict_test)"
   ]
  },
  {
   "cell_type": "markdown",
   "metadata": {
    "id": "NaSG1q3ut4C8"
   },
   "source": [
    "Although the original dataset's labels could be used for multi-class prediction, it was decided to focus on binary classification. This was done for two reasons, first, when presenting the MMHS150K, Gomez et al (2019) also reduce the classes to a hate and no-hate label. Second, to avoid increasing the data partition, and such the data for the training and testing of each class. Moreover, a hate score was not pursued as also Gomez et al (2019) found no relevant improvement from doing so. \n",
    "\n",
    "Binary labels were asssigned to each tweet via the created function `majority_vote()`. Where a tweet is labeled as hate (1) if two or more annotators assigned either hate classification, and no-hate (0), otherwise.\n",
    "\n"
   ]
  },
  {
   "cell_type": "code",
   "execution_count": 6,
   "metadata": {
    "id": "z9dkXmWLmAol"
   },
   "outputs": [],
   "source": [
    "# Majority vote function for label dataset\n",
    "labels_train = dc.majority_vote(labels3_train)\n",
    "labels_val = dc.majority_vote(labels3_val)\n",
    "labels_test = dc.majority_vote(labels3_test)"
   ]
  },
  {
   "cell_type": "code",
   "execution_count": 8,
   "metadata": {
    "colab": {
     "base_uri": "https://localhost:8080/"
    },
    "id": "5Y3J84oWyive",
    "outputId": "9d2b28b4-be51-44b5-c361-2fc173240893"
   },
   "outputs": [
    {
     "name": "stdout",
     "output_type": "stream",
     "text": [
      "Final text: a dyke / fem meet up would be dope. but dykes are historically, hereditarily, and pathologically broke https/\n",
      "Final labels: 1\n",
      "Final text length: 5000\n",
      "Final labels length: 5000\n"
     ]
    }
   ],
   "source": [
    "# Example of single observations\n",
    "print('Final text:', text_val[9])\n",
    "print('Final labels:', labels_val[9]) # 1 = Hate\n",
    "\n",
    "# Corroborate length or correct implementation\n",
    "print('Final text length:', len(text_val))\n",
    "print('Final labels length:', len(labels_val))"
   ]
  },
  {
   "cell_type": "markdown",
   "metadata": {
    "id": "jBdqdsYgA8XJ"
   },
   "source": [
    "**Brief data description**"
   ]
  },
  {
   "cell_type": "markdown",
   "metadata": {
    "id": "kkSpUxJAKySs"
   },
   "source": [
    "*  112,845 and 36,978 non-hate and hate observations, respectively. "
   ]
  },
  {
   "cell_type": "code",
   "execution_count": 36,
   "metadata": {
    "colab": {
     "base_uri": "https://localhost:8080/"
    },
    "id": "J5VL6JCyM0ZT",
    "outputId": "0d0ffb42-76ad-4dd9-abbe-ecd5c10b57b8"
   },
   "outputs": [
    {
     "name": "stdout",
     "output_type": "stream",
     "text": [
      "Number of tweets: 149823\n"
     ]
    }
   ],
   "source": [
    "print('Number of tweets:', len(data))"
   ]
  },
  {
   "cell_type": "code",
   "execution_count": 12,
   "metadata": {
    "colab": {
     "base_uri": "https://localhost:8080/"
    },
    "id": "ah_aToOBLWbZ",
    "outputId": "d57f9a46-c75c-4114-c40a-803991db7a53"
   },
   "outputs": [
    {
     "name": "stdout",
     "output_type": "stream",
     "text": [
      "[[     0      1]\n",
      " [112845  36978]]\n"
     ]
    }
   ],
   "source": [
    "all_labels = np.concatenate((labels_train, labels_val, labels_test))\n",
    "\n",
    "np.set_printoptions(suppress = True)\n",
    "unique_vals, count_vals = np.unique(all_labels, return_counts = True)\n",
    "print(np.asarray((unique_vals, count_vals)))"
   ]
  },
  {
   "cell_type": "code",
   "execution_count": 9,
   "metadata": {
    "colab": {
     "base_uri": "https://localhost:8080/"
    },
    "id": "RaRdfvfvMFh-",
    "outputId": "8a53d8db-cd14-4c18-e9d0-e7bcec69e025"
   },
   "outputs": [
    {
     "name": "stdout",
     "output_type": "stream",
     "text": [
      "57903 28401 54920 8599\n"
     ]
    }
   ],
   "source": [
    "all_labels3 = labels3_train + labels3_val + labels3_test\n",
    "all_zeros, one_zero, two_zero, all_hate = dc.annot_agreement(all_labels3)\n",
    "print(all_zeros, one_zero, two_zero, all_hate)"
   ]
  },
  {
   "cell_type": "markdown",
   "metadata": {
    "id": "KDV5ZXNZI72O"
   },
   "source": [
    "#### 3.2 Text pre-processing"
   ]
  },
  {
   "cell_type": "markdown",
   "metadata": {
    "id": "JN60gAvS5ZxC"
   },
   "source": [
    "**Data to numeric interpretation**\n",
    "\n",
    "\n",
    "Natural language processing or other non-numerical data must be transformed  for computer processing. The Twitter text data presented in the form of sentences is converted to a numerical representation following the next steps:\n",
    "\n",
    "\n",
    "1.   Create a Keras Tokenizer instance based on the vocabulary of the training set. Each word is mapped to a specific number.\n",
    "2.   Each token from the tweet is assigned to a number according to the respective dictionary.\n",
    "3.   Define the maximum number of words per tweet at 70. This assumption is based on estimating that Twitter allows to include 280 characters in each tweet and provided that in average each word has 4 characters, then there are 70 words per tweet. Tweets with less than 70 words, are padded after or right of the token 'sentence'.\n",
    "\n",
    "\n",
    "This procedure is applied to the training set, while for the validation and test set, only steps 2 and 3 as they use the word to number mapping from step 1 calculated from the training set. These steps are operationalized in the following code:"
   ]
  },
  {
   "cell_type": "code",
   "execution_count": 9,
   "metadata": {
    "colab": {
     "base_uri": "https://localhost:8080/"
    },
    "id": "P40m67ML3mWW",
    "outputId": "ba531baa-c088-4dfd-b1d0-e2b9580bf0e5"
   },
   "outputs": [
    {
     "name": "stdout",
     "output_type": "stream",
     "text": [
      "Total input of documents for tokenizer: 134823\n"
     ]
    }
   ],
   "source": [
    "# Tokenizer object\n",
    "tokens = Tokenizer()\n",
    "tokens.fit_on_texts(text_train)\n",
    "print('Total input of documents for tokenizer:', tokens.document_count)\n",
    "\n",
    "# Train set\n",
    "# Tokens to number sequences\n",
    "text_encoded_train = tokens.texts_to_sequences(text_train)\n",
    "\n",
    "# Padding to a determined length\n",
    "max_length_tokens = 70 # Maximum characters in tweets is 280, assumption: 70 words (of 4 characters)\n",
    "text_padded_train = pad_sequences(text_encoded_train,\n",
    "                            maxlen = max_length_tokens, \n",
    "                            padding = 'post') # Padding after sequence"
   ]
  },
  {
   "cell_type": "code",
   "execution_count": 10,
   "metadata": {
    "id": "KfVdj-yk3rww"
   },
   "outputs": [],
   "source": [
    "# Validation set\n",
    "# Tokens to number sequences\n",
    "text_encoded_val = tokens.texts_to_sequences(text_val)\n",
    "\n",
    "# Padding to a determined length\n",
    "text_padded_val = pad_sequences(text_encoded_val,\n",
    "                            maxlen = max_length_tokens, \n",
    "                            padding = 'post') # Padding after sequence\n",
    "\n",
    "# Test set\n",
    "# Tokens to number sequences\n",
    "text_encoded_test = tokens.texts_to_sequences(text_test)\n",
    "\n",
    "# Padding to a determined length\n",
    "text_padded_test = pad_sequences(text_encoded_test,\n",
    "                            maxlen = max_length_tokens, \n",
    "                            padding = 'post') # Padding after sequence"
   ]
  },
  {
   "cell_type": "markdown",
   "metadata": {
    "id": "Pylt0uonJgHC"
   },
   "source": [
    "#### 3.3 GloVe embeddings"
   ]
  },
  {
   "cell_type": "markdown",
   "metadata": {
    "id": "EmDtAGqjAQP0"
   },
   "source": [
    "I use the Twitter 200-dimension GloVe, meaning that the words are represented through a vector of 200 dimensions. "
   ]
  },
  {
   "cell_type": "code",
   "execution_count": 11,
   "metadata": {
    "colab": {
     "base_uri": "https://localhost:8080/"
    },
    "id": "BrKshR_ZJirc",
    "outputId": "1abe2aa8-0533-4c62-a0a0-ea77491cee59"
   },
   "outputs": [
    {
     "name": "stdout",
     "output_type": "stream",
     "text": [
      "Length of word vectors: 1193514\n"
     ]
    }
   ],
   "source": [
    "# Dictionary for embeddings\n",
    "data_glove = open('/content/gdrive/My Drive/ST449_final/glove.twitter.27B.200d.txt')\n",
    "embed_length = 200 # From glove.twitter.27B.200d.txt (dimensions)\n",
    "\n",
    "embedding_index = {} # Embedding dictionary\n",
    "for line in data_glove:\n",
    "\ttemp = line.split()\n",
    "\tword = temp[0]\n",
    "\tcoefs = np.asarray(temp[1:], dtype = np.float32)\n",
    "\tembedding_index[word] = coefs # Add word to dictionary with the embedding values\n",
    "\n",
    "print('Length of word vectors:', len(embedding_index))"
   ]
  },
  {
   "cell_type": "markdown",
   "metadata": {
    "id": "feWjAtlCDhtY"
   },
   "source": [
    "For each token of the training set previously processed to a numeric representation is merged with the word-coefficient dictionary created with the pre-trained embeddings. From this, I obtain the embedding matrix so that each token from my training set represented by a numerical vector of 200 dimensions.\n"
   ]
  },
  {
   "cell_type": "code",
   "execution_count": 12,
   "metadata": {
    "colab": {
     "base_uri": "https://localhost:8080/"
    },
    "id": "U6fidgSL4Mlb",
    "outputId": "b8668220-07ce-4265-bbfc-ce295f18e5d9"
   },
   "outputs": [
    {
     "name": "stdout",
     "output_type": "stream",
     "text": [
      "Dimensions of matrix: 68208 rows x 200 columns\n"
     ]
    }
   ],
   "source": [
    "# Weight matrix for training set tokens \n",
    "vocab_length = len(tokens.word_index) + 1  \n",
    "embedding_matrix = np.zeros((vocab_length, embed_length))\n",
    " \n",
    "for word, index in tokens.word_index.items():\n",
    "  # Search for training set's tokens in the embeddings data\n",
    "\tembedding_vector = embedding_index.get(word)\n",
    " \n",
    "  # If found, add to matrix\n",
    "\tif embedding_vector is not None:\n",
    "\t\tembedding_matrix[index] = embedding_vector\n",
    "\n",
    "#print(embedding_matrix[1])\n",
    "print('Dimensions of matrix: %d rows x %d columns' %\n",
    "      (len(embedding_matrix), len(embedding_matrix[0])))"
   ]
  },
  {
   "cell_type": "code",
   "execution_count": 13,
   "metadata": {
    "colab": {
     "base_uri": "https://localhost:8080/"
    },
    "id": "Iyy3uD_679MG",
    "outputId": "2e3b1988-1067-4815-c362-d7f39dd811d7"
   },
   "outputs": [
    {
     "name": "stdout",
     "output_type": "stream",
     "text": [
      "ready\n"
     ]
    }
   ],
   "source": [
    "text_padded_train = np.array(text_padded_train, dtype = 'float32')\n",
    "labels_train = np.array(labels_train, dtype = 'float32')\n",
    "\n",
    "text_padded_val = np.array(text_padded_val, dtype = 'float32')\n",
    "labels_val = np.array(labels_val, dtype = 'float32')\n",
    "\n",
    "text_padded_test = np.array(text_padded_test, dtype = 'float32')\n",
    "labels_test = np.array(labels_test, dtype = 'float32')\n"
   ]
  },
  {
   "cell_type": "markdown",
   "metadata": {
    "id": "iXB4nmwaJusr"
   },
   "source": [
    "### Model implementation"
   ]
  },
  {
   "cell_type": "code",
   "execution_count": 14,
   "metadata": {
    "id": "jRxH0TKA8bmf"
   },
   "outputs": [],
   "source": [
    "import models as mod\n",
    "from keras.utils.vis_utils import plot_model\n",
    "from sklearn.utils import class_weight"
   ]
  },
  {
   "cell_type": "markdown",
   "metadata": {
    "id": "V-wnvhYzKYci"
   },
   "source": [
    "#### LSTM"
   ]
  },
  {
   "cell_type": "markdown",
   "metadata": {
    "id": "-7-RzEXqoeoa"
   },
   "source": [
    "The LSTM base model has the following specifications:\n",
    "\n",
    "**Architecture**\n",
    "* Input of length 70 as I previously assumed that each tweet has maximum 70 tokens.\n",
    "* Embedding layer, which is utilized for text representation in a high-dimensional configuration. This is accomplished using my results from the previous text-processing stage and specifying the following characteristics:\n",
    "  * Input dimension of the vocabulary size (tokens).\n",
    "  * Including the 200-dimension embeddings for each tokens.\n",
    "  * Disabling the trainable option as my word embeddings are pre-trained on an external corpus.\n",
    "  * For efficiency, specified to my model that padded is included.\n",
    "* Two LSTM layers. The first with 64 units and the second with 32.\n",
    "* Dropout of 0.3 after each LSTM layer.\n",
    "* Dense layer with sigmoid activation.\n",
    "\n",
    "**Training specifications**\n",
    "* Adam optimizer with a learning rate of 0.001.\n",
    "* Binary cross-entropy loss function.\n",
    "* Batch size of 64.\n",
    "* Data shuffle for each epoch.\n",
    "* Epochs were decided for each variation through calibration based on the validation set performance.\n",
    "\n",
    "\n",
    "The optimizer used is based on the Gopalakrishnan and Salem (2020) review which recommend this from trying different optimizers for Twitter data and sentiment analysis. "
   ]
  },
  {
   "cell_type": "markdown",
   "metadata": {
    "id": "HU_H4jE2Jcou"
   },
   "source": [
    "**Base model**"
   ]
  },
  {
   "cell_type": "code",
   "execution_count": 15,
   "metadata": {
    "colab": {
     "base_uri": "https://localhost:8080/"
    },
    "id": "u05T7oOZZ2TW",
    "outputId": "58956174-2d73-42c7-dc37-86e9de4fed9c"
   },
   "outputs": [
    {
     "name": "stdout",
     "output_type": "stream",
     "text": [
      "Model: \"sequential\"\n",
      "_________________________________________________________________\n",
      "Layer (type)                 Output Shape              Param #   \n",
      "=================================================================\n",
      "embedding (Embedding)        (None, 70, 200)           13641600  \n",
      "_________________________________________________________________\n",
      "lstm (LSTM)                  (None, 70, 64)            67840     \n",
      "_________________________________________________________________\n",
      "dropout (Dropout)            (None, 70, 64)            0         \n",
      "_________________________________________________________________\n",
      "lstm_1 (LSTM)                (None, 32)                12416     \n",
      "_________________________________________________________________\n",
      "dropout_1 (Dropout)          (None, 32)                0         \n",
      "_________________________________________________________________\n",
      "dense (Dense)                (None, 1)                 33        \n",
      "=================================================================\n",
      "Total params: 13,721,889\n",
      "Trainable params: 80,289\n",
      "Non-trainable params: 13,641,600\n",
      "_________________________________________________________________\n",
      "None\n"
     ]
    }
   ],
   "source": [
    "model_lstm = mod.model_LSTM(units_layer1 = 64, units_layer2 = 32,\n",
    "                            vocab_len = vocab_length, embed_len = embed_length, max_len_tok = max_length_tokens, \n",
    "                            embed_mat = embedding_matrix, \n",
    "                            n_dropout = 0.3, bi = False)"
   ]
  },
  {
   "cell_type": "code",
   "execution_count": 60,
   "metadata": {
    "colab": {
     "base_uri": "https://localhost:8080/",
     "height": 754
    },
    "id": "i-fra0Eg-x1m",
    "outputId": "76308789-3b17-44db-dab9-c815be39bdb0"
   },
   "outputs": [
    {
     "data": {
      "image/png": "[encoded data removed]",
      "text/plain": [
       "<IPython.core.display.Image object>"
      ]
     },
     "execution_count": 60,
     "metadata": {
      "tags": []
     },
     "output_type": "execute_result"
    }
   ],
   "source": [
    "plot_model(model_lstm, to_file='LSTMbase_plot.png', show_shapes = True, show_layer_names = True)"
   ]
  },
  {
   "cell_type": "code",
   "execution_count": 16,
   "metadata": {
    "id": "OR2KOH0bKhsz"
   },
   "outputs": [],
   "source": [
    "history_lstm = model_lstm.fit(text_padded_train, labels_train, batch_size = 64, epochs = 3,\n",
    "                                        validation_data = (text_padded_val, labels_val), \n",
    "                                        shuffle = True, verbose = 0)    "
   ]
  },
  {
   "cell_type": "markdown",
   "metadata": {
    "id": "VnHKwYCZlldI"
   },
   "source": [
    "**Class imbalance**\n"
   ]
  },
  {
   "cell_type": "code",
   "execution_count": 17,
   "metadata": {
    "colab": {
     "base_uri": "https://localhost:8080/"
    },
    "id": "UYz2VsrlllpJ",
    "outputId": "549076d5-d011-4b79-f961-0b6345ce64a5"
   },
   "outputs": [
    {
     "name": "stdout",
     "output_type": "stream",
     "text": [
      "{0: 0.639905644257969, 1: 2.2869186145130103}\n"
     ]
    }
   ],
   "source": [
    "class_weights_arr = class_weight.compute_class_weight(class_weight = 'balanced',\n",
    "                                                  classes = np.unique(labels_train),\n",
    "                                                  y = labels_train)\n",
    "class_weight_dict = {0: class_weights_arr[0], 1: class_weights_arr[1]}\n",
    "print(class_weight_dict)"
   ]
  },
  {
   "cell_type": "code",
   "execution_count": 20,
   "metadata": {
    "colab": {
     "base_uri": "https://localhost:8080/"
    },
    "id": "dBdm9F9Zllv2",
    "outputId": "5d0e419d-90e5-4fab-dfdd-1572e85ca5b5"
   },
   "outputs": [
    {
     "name": "stdout",
     "output_type": "stream",
     "text": [
      "Model: \"sequential_1\"\n",
      "_________________________________________________________________\n",
      "Layer (type)                 Output Shape              Param #   \n",
      "=================================================================\n",
      "embedding_1 (Embedding)      (None, 70, 200)           13641600  \n",
      "_________________________________________________________________\n",
      "lstm_2 (LSTM)                (None, 70, 64)            67840     \n",
      "_________________________________________________________________\n",
      "dropout_2 (Dropout)          (None, 70, 64)            0         \n",
      "_________________________________________________________________\n",
      "lstm_3 (LSTM)                (None, 32)                12416     \n",
      "_________________________________________________________________\n",
      "dropout_3 (Dropout)          (None, 32)                0         \n",
      "_________________________________________________________________\n",
      "dense_1 (Dense)              (None, 1)                 33        \n",
      "=================================================================\n",
      "Total params: 13,721,889\n",
      "Trainable params: 80,289\n",
      "Non-trainable params: 13,641,600\n",
      "_________________________________________________________________\n",
      "None\n"
     ]
    }
   ],
   "source": [
    "model_lstm_class = mod.model_LSTM(units_layer1 = 64, units_layer2 = 32, \n",
    "                                  vocab_len = vocab_length, embed_len = embed_length, max_len_tok = max_length_tokens, \n",
    "                                  embed_mat = embedding_matrix,\n",
    "                                  n_dropout = 0.3, bi = False)\n",
    "history_lstm_class = model_lstm_class.fit(text_padded_train, labels_train, batch_size = 64, epochs = 3,\n",
    "                                          validation_data = (text_padded_val, labels_val), \n",
    "                                          shuffle = True, class_weight = class_weight_dict,\n",
    "                                          verbose = 0)   "
   ]
  },
  {
   "cell_type": "markdown",
   "metadata": {
    "id": "xacgTrEnlxXO"
   },
   "source": [
    "**Bidirectionality**\n",
    "\n",
    "Bidirectionality is operationalized by coding this specification into the LSTM layers. "
   ]
  },
  {
   "cell_type": "code",
   "execution_count": 21,
   "metadata": {
    "colab": {
     "base_uri": "https://localhost:8080/"
    },
    "id": "VRszUneqw3gv",
    "outputId": "112b0b5d-6d9b-467b-c142-0ddbbf5c22ed"
   },
   "outputs": [
    {
     "name": "stdout",
     "output_type": "stream",
     "text": [
      "Model: \"sequential_2\"\n",
      "_________________________________________________________________\n",
      "Layer (type)                 Output Shape              Param #   \n",
      "=================================================================\n",
      "embedding_2 (Embedding)      (None, 70, 200)           13641600  \n",
      "_________________________________________________________________\n",
      "bidirectional (Bidirectional (None, 70, 128)           135680    \n",
      "_________________________________________________________________\n",
      "dropout_4 (Dropout)          (None, 70, 128)           0         \n",
      "_________________________________________________________________\n",
      "bidirectional_1 (Bidirection (None, 64)                41216     \n",
      "_________________________________________________________________\n",
      "dropout_5 (Dropout)          (None, 64)                0         \n",
      "_________________________________________________________________\n",
      "dense_2 (Dense)              (None, 1)                 65        \n",
      "=================================================================\n",
      "Total params: 13,818,561\n",
      "Trainable params: 176,961\n",
      "Non-trainable params: 13,641,600\n",
      "_________________________________________________________________\n",
      "None\n"
     ]
    }
   ],
   "source": [
    "model_lstmB = mod.model_LSTM(units_layer1 = 64, units_layer2 = 32, \n",
    "                             vocab_len = vocab_length, embed_len = embed_length, max_len_tok = max_length_tokens, \n",
    "                             embed_mat = embedding_matrix,\n",
    "                             n_dropout = 0.3, bi = True)\n",
    "history_lstmB = model_lstmB.fit(text_padded_train, labels_train, batch_size = 64, epochs = 5,\n",
    "                                validation_data = (text_padded_val, labels_val), \n",
    "                                shuffle = True, verbose = 0)       "
   ]
  },
  {
   "cell_type": "markdown",
   "metadata": {
    "id": "jttYHm9-l0jT"
   },
   "source": [
    "**LSTM + Class imbalance + Bidirectionality**"
   ]
  },
  {
   "cell_type": "code",
   "execution_count": 22,
   "metadata": {
    "colab": {
     "base_uri": "https://localhost:8080/"
    },
    "id": "Mc7-CjbFw52u",
    "outputId": "0d6068b8-c39c-456a-e5cd-a001c0efc23e"
   },
   "outputs": [
    {
     "name": "stdout",
     "output_type": "stream",
     "text": [
      "Model: \"sequential_3\"\n",
      "_________________________________________________________________\n",
      "Layer (type)                 Output Shape              Param #   \n",
      "=================================================================\n",
      "embedding_3 (Embedding)      (None, 70, 200)           13641600  \n",
      "_________________________________________________________________\n",
      "bidirectional_2 (Bidirection (None, 70, 128)           135680    \n",
      "_________________________________________________________________\n",
      "dropout_6 (Dropout)          (None, 70, 128)           0         \n",
      "_________________________________________________________________\n",
      "bidirectional_3 (Bidirection (None, 64)                41216     \n",
      "_________________________________________________________________\n",
      "dropout_7 (Dropout)          (None, 64)                0         \n",
      "_________________________________________________________________\n",
      "dense_3 (Dense)              (None, 1)                 65        \n",
      "=================================================================\n",
      "Total params: 13,818,561\n",
      "Trainable params: 176,961\n",
      "Non-trainable params: 13,641,600\n",
      "_________________________________________________________________\n",
      "None\n"
     ]
    }
   ],
   "source": [
    "# Bi + Class\n",
    "model_lstmB_class = mod.model_LSTM(units_layer1 = 64, units_layer2 = 32, \n",
    "                                   vocab_len = vocab_length, embed_len = embed_length, max_len_tok = max_length_tokens, \n",
    "                                   embed_mat = embedding_matrix,\n",
    "                                   n_dropout = 0.3, bi = True)\n",
    "history_lstmB_class = model_lstmB_class.fit(text_padded_train, labels_train, batch_size = 64, epochs = 2,\n",
    "                                            validation_data = (text_padded_val, labels_val), \n",
    "                                            shuffle = True, class_weight = class_weight_dict,\n",
    "                                            verbose = 0) "
   ]
  },
  {
   "cell_type": "markdown",
   "metadata": {
    "id": "st6sDi96KiLu"
   },
   "source": [
    "#### GRU"
   ]
  },
  {
   "cell_type": "markdown",
   "metadata": {
    "id": "6sKJtAKxmMhg"
   },
   "source": [
    "GRU was explored as a follow-up from LSTM, trying to achieve the best accuracy and recall while fixing the number of parameters as LSTM for a 'fair' comparison (Chung et al. 2014). The model specifications are similar for GRU than for LSTM, the only changes are:\n",
    "\n",
    "**Architecture**\n",
    "* Two GRU layers. The first with 80 units and the second with 32.\n",
    "\n",
    "**Training specifications**\n",
    "* Epochs are also decided individually for each variation.\n",
    "\n"
   ]
  },
  {
   "cell_type": "markdown",
   "metadata": {
    "id": "GDp9O41el5tQ"
   },
   "source": [
    "**Base model**"
   ]
  },
  {
   "cell_type": "code",
   "execution_count": 23,
   "metadata": {
    "colab": {
     "base_uri": "https://localhost:8080/"
    },
    "id": "hNT8uYtqv2cF",
    "outputId": "64be7720-a339-4beb-b36e-4c70a66ee590"
   },
   "outputs": [
    {
     "name": "stdout",
     "output_type": "stream",
     "text": [
      "Model: \"sequential_4\"\n",
      "_________________________________________________________________\n",
      "Layer (type)                 Output Shape              Param #   \n",
      "=================================================================\n",
      "embedding_4 (Embedding)      (None, 70, 200)           13641600  \n",
      "_________________________________________________________________\n",
      "gru (GRU)                    (None, 70, 80)            67680     \n",
      "_________________________________________________________________\n",
      "dropout_8 (Dropout)          (None, 70, 80)            0         \n",
      "_________________________________________________________________\n",
      "gru_1 (GRU)                  (None, 32)                10944     \n",
      "_________________________________________________________________\n",
      "dropout_9 (Dropout)          (None, 32)                0         \n",
      "_________________________________________________________________\n",
      "dense_4 (Dense)              (None, 1)                 33        \n",
      "=================================================================\n",
      "Total params: 13,720,257\n",
      "Trainable params: 78,657\n",
      "Non-trainable params: 13,641,600\n",
      "_________________________________________________________________\n",
      "None\n"
     ]
    }
   ],
   "source": [
    "model_gru = mod.model_GRU(units_layer1 = 80, units_layer2 = 32, \n",
    "                          vocab_len = vocab_length, embed_len = embed_length, max_len_tok = max_length_tokens, \n",
    "                          embed_mat = embedding_matrix,\n",
    "                          n_dropout = 0.3, bi = False)"
   ]
  },
  {
   "cell_type": "code",
   "execution_count": 24,
   "metadata": {
    "colab": {
     "base_uri": "https://localhost:8080/",
     "height": 754
    },
    "id": "309QLtzHv2nv",
    "outputId": "52330b57-ef13-458b-e3a7-12a365798bac"
   },
   "outputs": [
    {
     "data": {
      "image/png": "[encoded data removed]",
      "text/plain": [
       "<IPython.core.display.Image object>"
      ]
     },
     "execution_count": 24,
     "metadata": {
      "tags": []
     },
     "output_type": "execute_result"
    }
   ],
   "source": [
    "plot_model(model_gru, to_file='GRUbase_plot.png', show_shapes = True, show_layer_names = True)"
   ]
  },
  {
   "cell_type": "code",
   "execution_count": 25,
   "metadata": {
    "id": "Oc7LKx0uKmEg"
   },
   "outputs": [],
   "source": [
    "history_gru = model_gru.fit(text_padded_train, labels_train, batch_size = 64, epochs = 3,\n",
    "                            validation_data = (text_padded_val, labels_val), \n",
    "                            shuffle = True, verbose = 0) "
   ]
  },
  {
   "cell_type": "markdown",
   "metadata": {
    "id": "XINC_NTOl9BP"
   },
   "source": [
    "**Class imbalance**"
   ]
  },
  {
   "cell_type": "code",
   "execution_count": 26,
   "metadata": {
    "colab": {
     "base_uri": "https://localhost:8080/"
    },
    "id": "QeEKpCkQmAWB",
    "outputId": "8ed7fe29-f9e8-4ba3-b491-0b5a05ab68dc"
   },
   "outputs": [
    {
     "name": "stdout",
     "output_type": "stream",
     "text": [
      "Model: \"sequential_5\"\n",
      "_________________________________________________________________\n",
      "Layer (type)                 Output Shape              Param #   \n",
      "=================================================================\n",
      "embedding_5 (Embedding)      (None, 70, 200)           13641600  \n",
      "_________________________________________________________________\n",
      "gru_2 (GRU)                  (None, 70, 80)            67680     \n",
      "_________________________________________________________________\n",
      "dropout_10 (Dropout)         (None, 70, 80)            0         \n",
      "_________________________________________________________________\n",
      "gru_3 (GRU)                  (None, 32)                10944     \n",
      "_________________________________________________________________\n",
      "dropout_11 (Dropout)         (None, 32)                0         \n",
      "_________________________________________________________________\n",
      "dense_5 (Dense)              (None, 1)                 33        \n",
      "=================================================================\n",
      "Total params: 13,720,257\n",
      "Trainable params: 78,657\n",
      "Non-trainable params: 13,641,600\n",
      "_________________________________________________________________\n",
      "None\n"
     ]
    }
   ],
   "source": [
    "model_gru_class = mod.model_GRU(units_layer1 = 80, units_layer2 = 32, \n",
    "                                vocab_len = vocab_length, embed_len = embed_length, max_len_tok = max_length_tokens, \n",
    "                                embed_mat = embedding_matrix,\n",
    "                                n_dropout = 0.3, bi = False)\n",
    "history_gru_class = model_gru_class.fit(text_padded_train, labels_train, batch_size = 64, epochs = 1,\n",
    "                                  validation_data = (text_padded_val, labels_val), \n",
    "                                  shuffle = True, class_weight = class_weight_dict,\n",
    "                                  verbose = 0) "
   ]
  },
  {
   "cell_type": "markdown",
   "metadata": {
    "id": "QVZ8LUyHmArw"
   },
   "source": [
    "**Bidirectionality**"
   ]
  },
  {
   "cell_type": "code",
   "execution_count": 27,
   "metadata": {
    "colab": {
     "base_uri": "https://localhost:8080/"
    },
    "id": "rqBBSTA-mHu3",
    "outputId": "bedf4380-0383-4f5b-d362-0148f6d4f2b5"
   },
   "outputs": [
    {
     "name": "stdout",
     "output_type": "stream",
     "text": [
      "Model: \"sequential_6\"\n",
      "_________________________________________________________________\n",
      "Layer (type)                 Output Shape              Param #   \n",
      "=================================================================\n",
      "embedding_6 (Embedding)      (None, 70, 200)           13641600  \n",
      "_________________________________________________________________\n",
      "bidirectional_4 (Bidirection (None, 70, 160)           135360    \n",
      "_________________________________________________________________\n",
      "dropout_12 (Dropout)         (None, 70, 160)           0         \n",
      "_________________________________________________________________\n",
      "bidirectional_5 (Bidirection (None, 64)                37248     \n",
      "_________________________________________________________________\n",
      "dropout_13 (Dropout)         (None, 64)                0         \n",
      "_________________________________________________________________\n",
      "dense_6 (Dense)              (None, 1)                 65        \n",
      "=================================================================\n",
      "Total params: 13,814,273\n",
      "Trainable params: 172,673\n",
      "Non-trainable params: 13,641,600\n",
      "_________________________________________________________________\n",
      "None\n"
     ]
    }
   ],
   "source": [
    "model_gruB = mod.model_GRU(units_layer1 = 80, units_layer2 = 32, \n",
    "                           vocab_len = vocab_length, embed_len = embed_length, max_len_tok = max_length_tokens, \n",
    "                           embed_mat = embedding_matrix,\n",
    "                           n_dropout = 0.3, bi = True)\n",
    "history_gruB = model_gruB.fit(text_padded_train, labels_train, batch_size = 64, epochs = 3,\n",
    "                              validation_data = (text_padded_val, labels_val), \n",
    "                              shuffle = True, verbose = 0) "
   ]
  },
  {
   "cell_type": "markdown",
   "metadata": {
    "id": "bn1RMvdPmHhQ"
   },
   "source": [
    "**GRU + Class imbalance + Bidirectionality**"
   ]
  },
  {
   "cell_type": "code",
   "execution_count": 28,
   "metadata": {
    "colab": {
     "base_uri": "https://localhost:8080/"
    },
    "id": "AzZpNKY3xyxI",
    "outputId": "f6f3586a-3675-4a7b-a527-375b37fd2c5c"
   },
   "outputs": [
    {
     "name": "stdout",
     "output_type": "stream",
     "text": [
      "Model: \"sequential_7\"\n",
      "_________________________________________________________________\n",
      "Layer (type)                 Output Shape              Param #   \n",
      "=================================================================\n",
      "embedding_7 (Embedding)      (None, 70, 200)           13641600  \n",
      "_________________________________________________________________\n",
      "bidirectional_6 (Bidirection (None, 70, 160)           135360    \n",
      "_________________________________________________________________\n",
      "dropout_14 (Dropout)         (None, 70, 160)           0         \n",
      "_________________________________________________________________\n",
      "bidirectional_7 (Bidirection (None, 64)                37248     \n",
      "_________________________________________________________________\n",
      "dropout_15 (Dropout)         (None, 64)                0         \n",
      "_________________________________________________________________\n",
      "dense_7 (Dense)              (None, 1)                 65        \n",
      "=================================================================\n",
      "Total params: 13,814,273\n",
      "Trainable params: 172,673\n",
      "Non-trainable params: 13,641,600\n",
      "_________________________________________________________________\n",
      "None\n"
     ]
    }
   ],
   "source": [
    "# Bi + Class\n",
    "model_gruB_class = mod.model_GRU(units_layer1 = 80, units_layer2 = 32, \n",
    "                                 vocab_len = vocab_length, embed_len = embed_length, max_len_tok = max_length_tokens, \n",
    "                                 embed_mat = embedding_matrix,\n",
    "                                 n_dropout = 0.3, bi = True)\n",
    "history_gruB_class = model_gruB_class.fit(text_padded_train, labels_train, batch_size = 64, epochs = 2,\n",
    "                                          validation_data = (text_padded_val, labels_val), \n",
    "                                          shuffle = True, class_weight = class_weight_dict,\n",
    "                                          verbose = 0) "
   ]
  },
  {
   "cell_type": "markdown",
   "metadata": {
    "id": "VYvjW7ApxzX7"
   },
   "source": [
    "#### Model evaluation\n",
    "\n",
    "The performance metrics used to evaluate the results are: accuracy, precision, recall and Area under the Curve (AUC). Accuracy is not sensitive to class imbalance, which means that for datasets with a predominant class, such as the MMHS150K, the metric is overestimated as the dominant class is typically predicted with higher accuracy. Consequently, complimentary metrics are introduced. \n",
    "\n"
   ]
  },
  {
   "cell_type": "code",
   "execution_count": 29,
   "metadata": {
    "colab": {
     "base_uri": "https://localhost:8080/"
    },
    "id": "ep_lBdAnx4_i",
    "outputId": "778129a8-e524-4e8b-f76c-1c483a39feb7"
   },
   "outputs": [
    {
     "name": "stdout",
     "output_type": "stream",
     "text": [
      "313/313 [==============================] - 2s 7ms/step - loss: 0.7390 - accuracy: 0.6004 - precision: 0.8131 - recall: 0.2609 - auc: 0.7289\n",
      "313/313 [==============================] - 2s 7ms/step - loss: 0.6083 - accuracy: 0.6763 - precision_1: 0.6676 - recall_1: 0.7027 - auc_1: 0.7283\n",
      "313/313 [==============================] - 3s 9ms/step - loss: 0.7653 - accuracy: 0.6016 - precision_2: 0.8137 - recall_2: 0.2637 - auc_2: 0.7288\n",
      "313/313 [==============================] - 3s 10ms/step - loss: 0.6084 - accuracy: 0.6766 - precision_3: 0.6864 - recall_3: 0.6507 - auc_3: 0.7286\n",
      "313/313 [==============================] - 2s 6ms/step - loss: 0.7589 - accuracy: 0.6133 - precision_4: 0.8026 - recall_4: 0.3007 - auc_4: 0.7287\n",
      "313/313 [==============================] - 2s 6ms/step - loss: 0.6123 - accuracy: 0.6776 - precision_5: 0.6792 - recall_5: 0.6735 - auc_5: 0.7259\n",
      "313/313 [==============================] - 3s 9ms/step - loss: 0.7683 - accuracy: 0.5899 - precision_6: 0.8266 - recall_6: 0.2278 - auc_6: 0.7284\n",
      "313/313 [==============================] - 3s 9ms/step - loss: 0.6075 - accuracy: 0.6770 - precision_7: 0.6830 - recall_7: 0.6609 - auc_7: 0.7285\n",
      "ready\n"
     ]
    }
   ],
   "source": [
    "# LSTM\n",
    "model_lstm_results = model_lstm.evaluate(text_padded_test, labels_test)\n",
    "model_lstm_class_results = model_lstm_class.evaluate(text_padded_test, labels_test) # Class\n",
    "\n",
    "model_lstmB_results = model_lstmB.evaluate(text_padded_test, labels_test) # Bidirectionality\n",
    "model_lstmB_class_results = model_lstmB_class.evaluate(text_padded_test, labels_test) # Class + Bidirectionality\n",
    "\n",
    "# GRU\n",
    "model_gru_results = model_gru.evaluate(text_padded_test, labels_test)\n",
    "model_gru_class_results = model_gru_class.evaluate(text_padded_test, labels_test) # Class\n",
    "\n",
    "model_gruB_results = model_gruB.evaluate(text_padded_test, labels_test) # Bidirectionality\n",
    "model_gruB_class_results = model_gruB_class.evaluate(text_padded_test, labels_test) # Class + Bidirectionality\n",
    "\n",
    "print('ready')"
   ]
  },
  {
   "cell_type": "markdown",
   "metadata": {
    "id": "5nrA99n1Kvgs"
   },
   "source": [
    "### Results\n",
    "\n",
    "The final performance metrics are presented in the following table. External models for the MMHS150K are presented for comparative purposes: the LSTM model for text estimated by Gomez et al. (2019); their Feature Concatenation Model (FCM), Gomez et al. (2019) best performing multimodal model (image, image text and text); and, Kumar et al. (2020) best multimodal model, Fusion."
   ]
  },
  {
   "cell_type": "markdown",
   "metadata": {
    "id": "Q7Z0fZ8byDK4"
   },
   "source": [
    "| Model                      |  ACC  | Precision | Recall |  AUC  |\n",
    "|----------------------------|:-----:|:---------:|:------:|:-----:|\n",
    "| LSTM, Gomez et al. (2019) | 0.683 |     -     |    -   | 0.732 |\n",
    "| LSTM-base                | 0.600 |   0.813   |  0.260 | 0.728 |\n",
    "| LSTM-class               | 0.676 |   0.667   | 0.702 | 0.728 |\n",
    "| LSTM-bi                 | 0.601 |   0.813   |  0.263 | 0.728 |\n",
    "| LSTM-class_bi          | 0.676 |   0.686   |  0.650 | 0.728 |\n",
    "| GRU-base                 | 0.613 |   0.802   |  0.300 | 0.728 |\n",
    "| GRU-class                | 0.677 |   0.679   |  0.673 | 0.725 |\n",
    "| GRU-bi                   | 0.589 |   0.826   |  0.227 | 0.728 |\n",
    "| GRU-class_bi           | 0.677 |   0.683   |  0.660 | 0.728 |\n",
    "| FCM, Gomez et al. (2019)  | 0.684 |     -     |    -   | 0.704 |\n",
    "| Fusion, Kumar et al. (2020)  |   -   |   0.877   |    -   | 0.707 |"
   ]
  },
  {
   "cell_type": "markdown",
   "metadata": {
    "id": "awW_MOR6ttPW"
   },
   "source": [
    "From these results I can answer the three research questions in the following way:\n",
    "\n",
    "**(1) LSTM and GRU**\n",
    "\n",
    "Using the same epochs during training, in terms of accuracy and recall, the base GRU model outperforms the LSTM. Both are tied under the AUC metric at 0.728. Nonetheless, the model with higher recall, identifies the greater proportion of test set tweets (70.2%) labeled as hate-speech, is the LSTM with class imbalance. \n",
    "\n",
    "The LSTM and GRU models and variatons outperform, in terms of the AUC metric, the multimodal proposals of Gomez et al. (2019) and Kumar et al. (2020). Simultaneously, these are slightly outperformed by Gomez et al. (2019) LSTM model for text. Although Gomez et al. (2019) do not report precision and recall, they do present an F metric of 0.703. From the interaction between the precision and recall of the models, I consider that I am not far off from the prediction performance.\n",
    "\n",
    "The performance of my model compared with the multimodal approaches suggests an area of opportunity for tweet classification tasks. Based exclusively on this study, it is possible that hate-speech content in Twitter can be identified solely using text through less complex and more computationally-efficient models. \n",
    "\n",
    "My best performing model, the LSTM-class, outperforms both in terms of the AUC metric even though it has a simpler and less complex architecture. Kumar et al. (2020) best models have from 300,000 to 700,000, trainable parameters while the LSTM-class model has 80,000. Although I could not identify the specific number of FCM trainable parameters (Gomez et al., 2019), it appears more complex as it comprises of an LSTM model, an Inception architecture for image classification, and three fully-connected layers. Gomez et al. (2019) attributes this challenge to the noisy nature of the MMHS150K, they mention that only-text classification is affected by this variability and subjectivity which amounts when increasing other input formats.\n",
    "\n",
    "**(2) Bidirectionality**\n",
    "\n",
    "Comparing the base models performance with the variations which incorporate bidirectionality, I conclude that for this particular task and dataset, bidirectionality does not improve performance. \n",
    "\n",
    "**(3) Class**\n",
    "\n",
    "The concerns from the authors cited in previous sections regarding the high class imbalance of the MMHS150K are evidentiated by the more-than-double boost in recall performance for both GRU and LSTM. Accuracy increases while not as much as recall due to a considerable decrease in precision for both models. This trade-off among recall and precision metrics uncovers the workings of giving a greater weight in the loss calculation for the underrepresented class (hate-speech tweets)."
   ]
  },
  {
   "cell_type": "markdown",
   "metadata": {
    "id": "OIQEPQDFKx_h"
   },
   "source": [
    "### Conclusion\n",
    "\n",
    "The present hate-speech detection task through LSTM and GRU for the MMHS150K dataset arrives at similar performance metrics for, to the best of my knowledge, the only other text classification method in the literature. Also, my best performing model, a two-layer LSTM model with 0.3 dropout, outperforms multimodal approaches for the MMHS150K dataset. The results suggest that simple and efficient hate-speech detection in Twitter can be efficiently achieved for multimodal tweets using solely text. \n"
   ]
  }
 ],
 "metadata": {
  "accelerator": "GPU",
  "colab": {
   "collapsed_sections": [],
   "name": "Final_project-carolinachru.ipynb",
   "provenance": []
  },
  "kernelspec": {
   "display_name": "Python 3",
   "language": "python",
   "name": "python3"
  },
  "language_info": {
   "codemirror_mode": {
    "name": "ipython",
    "version": 3
   },
   "file_extension": ".py",
   "mimetype": "text/x-python",
   "name": "python",
   "nbconvert_exporter": "python",
   "pygments_lexer": "ipython3",
   "version": "3.8.5"
  }
 },
 "nbformat": 4,
 "nbformat_minor": 1
}
